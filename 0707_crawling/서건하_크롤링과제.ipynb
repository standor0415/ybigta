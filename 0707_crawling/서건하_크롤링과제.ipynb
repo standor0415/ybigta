{
  "nbformat": 4,
  "nbformat_minor": 0,
  "metadata": {
    "colab": {
      "provenance": []
    },
    "kernelspec": {
      "name": "python3",
      "display_name": "Python 3"
    },
    "language_info": {
      "name": "python"
    }
  },
  "cells": [
    {
      "cell_type": "code",
      "execution_count": 62,
      "metadata": {
        "id": "-5CUh6BNUX7u"
      },
      "outputs": [],
      "source": [
        "import requests\n",
        "from bs4 import BeautifulSoup as bs\n",
        "import pandas as pd"
      ]
    },
    {
      "cell_type": "code",
      "source": [
        "url = \"https://www.musinsa.com/app/codimap/lists?style_type=&tag_no=&brand=&display_cnt=60&list_kind=big&sort=comment_cnt&page=1\"\n",
        "res = requests.get(url, headers={'User-Agent': 'Mozilla/5.0'})\n",
        "html = res.text\n",
        "soup = bs(html, \"html.parser\")\n",
        "li_tags = soup.find_all('li', class_='style-list-item')\n",
        "columns = ['codimap_category', 'codimap_title', 'codimap_data', 'views', 'comment_numbers']\n",
        "values = []\n",
        "for i in li_tags: #필요 없는말 제거\n",
        "  a= i.get_text().replace('\\n\\n\\n\\n\\n\\n\\n\\n\\n\\n', '')\n",
        "  b= a.replace('\\n\\n\\n\\n', '\\n')\n",
        "  c= b.replace('\\n\\n', '')\n",
        "  d= c.replace('조회 ', '')\n",
        "  e= d.replace('댓글 ', '')\n",
        "  values.append(e.split('\\n'))\n",
        "df = pd.DataFrame(values, columns = columns)\n",
        "df.to_csv('서건하_크롤링과제.csv', encoding = 'cp949')"
      ],
      "metadata": {
        "id": "FQtPp0TPVQEi"
      },
      "execution_count": 64,
      "outputs": []
    }
  ]
}